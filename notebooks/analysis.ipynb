{
 "cells": [
  {
   "cell_type": "code",
   "execution_count": 20,
   "id": "f99ce9ae-ca4a-4c88-8942-0153a5713f56",
   "metadata": {},
   "outputs": [
    {
     "name": "stdout",
     "output_type": "stream",
     "text": [
      "The autoreload extension is already loaded. To reload it, use:\n",
      "  %reload_ext autoreload\n"
     ]
    }
   ],
   "source": [
    "%load_ext autoreload\n",
    "%autoreload 2"
   ]
  },
  {
   "cell_type": "code",
   "execution_count": 21,
   "id": "879f8473-84d8-4a24-8629-acaa7c937651",
   "metadata": {},
   "outputs": [],
   "source": [
    "import numpy as np\n",
    "\n",
    "import pennydropsolver"
   ]
  },
  {
   "cell_type": "code",
   "execution_count": 30,
   "id": "0d3533e6-3d4e-4621-94f6-39cd47290cbf",
   "metadata": {},
   "outputs": [],
   "source": [
    "def run_from_state(world, state):\n",
    "    rng = np.random.default_rng()\n",
    "    while not world.is_terminal_state(state):\n",
    "        display(state)\n",
    "        act = rng.choice(world.allowed_actions(state))\n",
    "        all_outcomes = list(world.do_action(state, act))\n",
    "        #display(all_outcomes)\n",
    "        outcome_idx = rng.choice(range(len(all_outcomes)), p=[o.prob for o in all_outcomes])\n",
    "        outcome = all_outcomes[outcome_idx]\n",
    "        display(act, outcome)\n",
    "        state = outcome.next_state\n",
    "    "
   ]
  },
  {
   "cell_type": "code",
   "execution_count": 31,
   "id": "d263480e-d86f-4a7e-af7a-7ec5e3605001",
   "metadata": {},
   "outputs": [],
   "source": [
    "world = pennydropsolver.GameModel(num_players=2, num_spots=6)"
   ]
  },
  {
   "cell_type": "code",
   "execution_count": 33,
   "id": "12814176-5f4c-44ba-8cf9-52596b0ac28c",
   "metadata": {},
   "outputs": [
    {
     "data": {
      "text/plain": [
       "GameState(num_out=0, player=0, is_first=True)"
      ]
     },
     "metadata": {},
     "output_type": "display_data"
    },
    {
     "data": {
      "text/plain": [
       "<Action.ROLL: 0>"
      ]
     },
     "metadata": {},
     "output_type": "display_data"
    },
    {
     "data": {
      "text/plain": [
       "ActionResult(prob=1.0, reward=-1, next_state=GameState(num_out=1, player=0, is_first=False))"
      ]
     },
     "metadata": {},
     "output_type": "display_data"
    },
    {
     "data": {
      "text/plain": [
       "GameState(num_out=1, player=0, is_first=False)"
      ]
     },
     "metadata": {},
     "output_type": "display_data"
    },
    {
     "data": {
      "text/plain": [
       "<Action.ROLL: 0>"
      ]
     },
     "metadata": {},
     "output_type": "display_data"
    },
    {
     "data": {
      "text/plain": [
       "ActionResult(prob=0.8333333333333334, reward=-1, next_state=GameState(num_out=2, player=0, is_first=False))"
      ]
     },
     "metadata": {},
     "output_type": "display_data"
    },
    {
     "data": {
      "text/plain": [
       "GameState(num_out=2, player=0, is_first=False)"
      ]
     },
     "metadata": {},
     "output_type": "display_data"
    },
    {
     "data": {
      "text/plain": [
       "<Action.ROLL: 0>"
      ]
     },
     "metadata": {},
     "output_type": "display_data"
    },
    {
     "data": {
      "text/plain": [
       "ActionResult(prob=0.6666666666666667, reward=-1, next_state=GameState(num_out=3, player=0, is_first=False))"
      ]
     },
     "metadata": {},
     "output_type": "display_data"
    },
    {
     "data": {
      "text/plain": [
       "GameState(num_out=3, player=0, is_first=False)"
      ]
     },
     "metadata": {},
     "output_type": "display_data"
    },
    {
     "data": {
      "text/plain": [
       "<Action.PASS: 1>"
      ]
     },
     "metadata": {},
     "output_type": "display_data"
    },
    {
     "data": {
      "text/plain": [
       "ActionResult(prob=1.0, reward=0, next_state=GameState(num_out=3, player=1, is_first=True))"
      ]
     },
     "metadata": {},
     "output_type": "display_data"
    },
    {
     "data": {
      "text/plain": [
       "GameState(num_out=3, player=1, is_first=True)"
      ]
     },
     "metadata": {},
     "output_type": "display_data"
    },
    {
     "data": {
      "text/plain": [
       "<Action.ROLL: 0>"
      ]
     },
     "metadata": {},
     "output_type": "display_data"
    },
    {
     "data": {
      "text/plain": [
       "ActionResult(prob=0.5, reward=0, next_state=GameState(num_out=-1, player=-1, is_first=False))"
      ]
     },
     "metadata": {},
     "output_type": "display_data"
    }
   ],
   "source": [
    "run_from_state(world, pennydropsolver.GameState(num_out=0, player=0, is_first=True))"
   ]
  },
  {
   "cell_type": "code",
   "execution_count": 34,
   "id": "f7886d0f-d35c-4fda-8278-99108ad9de09",
   "metadata": {},
   "outputs": [
    {
     "data": {
      "text/plain": [
       "GameState(num_out=0, player=1, is_first=True)"
      ]
     },
     "metadata": {},
     "output_type": "display_data"
    },
    {
     "data": {
      "text/plain": [
       "<Action.ROLL: 0>"
      ]
     },
     "metadata": {},
     "output_type": "display_data"
    },
    {
     "data": {
      "text/plain": [
       "ActionResult(prob=1.0, reward=0, next_state=GameState(num_out=1, player=1, is_first=False))"
      ]
     },
     "metadata": {},
     "output_type": "display_data"
    },
    {
     "data": {
      "text/plain": [
       "GameState(num_out=1, player=1, is_first=False)"
      ]
     },
     "metadata": {},
     "output_type": "display_data"
    },
    {
     "data": {
      "text/plain": [
       "<Action.ROLL: 0>"
      ]
     },
     "metadata": {},
     "output_type": "display_data"
    },
    {
     "data": {
      "text/plain": [
       "ActionResult(prob=0.8333333333333334, reward=0, next_state=GameState(num_out=2, player=1, is_first=False))"
      ]
     },
     "metadata": {},
     "output_type": "display_data"
    },
    {
     "data": {
      "text/plain": [
       "GameState(num_out=2, player=1, is_first=False)"
      ]
     },
     "metadata": {},
     "output_type": "display_data"
    },
    {
     "data": {
      "text/plain": [
       "<Action.PASS: 1>"
      ]
     },
     "metadata": {},
     "output_type": "display_data"
    },
    {
     "data": {
      "text/plain": [
       "ActionResult(prob=1.0, reward=0, next_state=GameState(num_out=2, player=0, is_first=True))"
      ]
     },
     "metadata": {},
     "output_type": "display_data"
    },
    {
     "data": {
      "text/plain": [
       "GameState(num_out=2, player=0, is_first=True)"
      ]
     },
     "metadata": {},
     "output_type": "display_data"
    },
    {
     "data": {
      "text/plain": [
       "<Action.ROLL: 0>"
      ]
     },
     "metadata": {},
     "output_type": "display_data"
    },
    {
     "data": {
      "text/plain": [
       "ActionResult(prob=0.6666666666666667, reward=-1, next_state=GameState(num_out=3, player=0, is_first=False))"
      ]
     },
     "metadata": {},
     "output_type": "display_data"
    },
    {
     "data": {
      "text/plain": [
       "GameState(num_out=3, player=0, is_first=False)"
      ]
     },
     "metadata": {},
     "output_type": "display_data"
    },
    {
     "data": {
      "text/plain": [
       "<Action.PASS: 1>"
      ]
     },
     "metadata": {},
     "output_type": "display_data"
    },
    {
     "data": {
      "text/plain": [
       "ActionResult(prob=1.0, reward=0, next_state=GameState(num_out=3, player=1, is_first=True))"
      ]
     },
     "metadata": {},
     "output_type": "display_data"
    },
    {
     "data": {
      "text/plain": [
       "GameState(num_out=3, player=1, is_first=True)"
      ]
     },
     "metadata": {},
     "output_type": "display_data"
    },
    {
     "data": {
      "text/plain": [
       "<Action.ROLL: 0>"
      ]
     },
     "metadata": {},
     "output_type": "display_data"
    },
    {
     "data": {
      "text/plain": [
       "ActionResult(prob=0.5, reward=0, next_state=GameState(num_out=4, player=1, is_first=False))"
      ]
     },
     "metadata": {},
     "output_type": "display_data"
    },
    {
     "data": {
      "text/plain": [
       "GameState(num_out=4, player=1, is_first=False)"
      ]
     },
     "metadata": {},
     "output_type": "display_data"
    },
    {
     "data": {
      "text/plain": [
       "<Action.PASS: 1>"
      ]
     },
     "metadata": {},
     "output_type": "display_data"
    },
    {
     "data": {
      "text/plain": [
       "ActionResult(prob=1.0, reward=0, next_state=GameState(num_out=4, player=0, is_first=True))"
      ]
     },
     "metadata": {},
     "output_type": "display_data"
    },
    {
     "data": {
      "text/plain": [
       "GameState(num_out=4, player=0, is_first=True)"
      ]
     },
     "metadata": {},
     "output_type": "display_data"
    },
    {
     "data": {
      "text/plain": [
       "<Action.ROLL: 0>"
      ]
     },
     "metadata": {},
     "output_type": "display_data"
    },
    {
     "data": {
      "text/plain": [
       "ActionResult(prob=0.6666666666666666, reward=4, next_state=GameState(num_out=-1, player=-1, is_first=False))"
      ]
     },
     "metadata": {},
     "output_type": "display_data"
    }
   ],
   "source": [
    "run_from_state(world, pennydropsolver.GameState(num_out=0, player=1, is_first=True))"
   ]
  },
  {
   "cell_type": "code",
   "execution_count": null,
   "id": "aad72dd0-3f8e-43f7-a696-bafc3089729d",
   "metadata": {},
   "outputs": [],
   "source": []
  }
 ],
 "metadata": {
  "kernelspec": {
   "display_name": "pennydropsolver",
   "language": "python",
   "name": "pennydropsolver"
  },
  "language_info": {
   "codemirror_mode": {
    "name": "ipython",
    "version": 3
   },
   "file_extension": ".py",
   "mimetype": "text/x-python",
   "name": "python",
   "nbconvert_exporter": "python",
   "pygments_lexer": "ipython3",
   "version": "3.9.17"
  }
 },
 "nbformat": 4,
 "nbformat_minor": 5
}
