{
 "cells": [
  {
   "cell_type": "code",
   "execution_count": 57,
   "id": "f99ce9ae-ca4a-4c88-8942-0153a5713f56",
   "metadata": {},
   "outputs": [
    {
     "name": "stdout",
     "output_type": "stream",
     "text": [
      "The autoreload extension is already loaded. To reload it, use:\n",
      "  %reload_ext autoreload\n"
     ]
    }
   ],
   "source": [
    "%load_ext autoreload\n",
    "%autoreload 2"
   ]
  },
  {
   "cell_type": "code",
   "execution_count": 58,
   "id": "879f8473-84d8-4a24-8629-acaa7c937651",
   "metadata": {},
   "outputs": [],
   "source": [
    "import numpy as np\n",
    "\n",
    "import pennydropsolver"
   ]
  },
  {
   "cell_type": "code",
   "execution_count": 62,
   "id": "0d3533e6-3d4e-4621-94f6-39cd47290cbf",
   "metadata": {},
   "outputs": [],
   "source": [
    "def run_from_state(world, state):\n",
    "    rng = np.random.default_rng()\n",
    "    while not world.is_state_terminal(state):\n",
    "        display(state)\n",
    "        act = rng.choice(world.allowed_actions(state))\n",
    "        all_outcomes = list(world.do_action(state, act))\n",
    "        #display(all_outcomes)\n",
    "        outcome_idx = rng.choice(range(len(all_outcomes)), p=[o.prob for o in all_outcomes])\n",
    "        outcome = all_outcomes[outcome_idx]\n",
    "        display(act, outcome)\n",
    "        state = outcome.next_state\n",
    "    "
   ]
  },
  {
   "cell_type": "code",
   "execution_count": 63,
   "id": "d263480e-d86f-4a7e-af7a-7ec5e3605001",
   "metadata": {},
   "outputs": [],
   "source": [
    "world = pennydropsolver.GameModel(num_players=2, num_spots=6)"
   ]
  },
  {
   "cell_type": "code",
   "execution_count": 64,
   "id": "12814176-5f4c-44ba-8cf9-52596b0ac28c",
   "metadata": {},
   "outputs": [
    {
     "data": {
      "text/plain": [
       "GameState(num_out=0, player=0, is_first=True)"
      ]
     },
     "metadata": {},
     "output_type": "display_data"
    },
    {
     "data": {
      "text/plain": [
       "<Action.ROLL: 0>"
      ]
     },
     "metadata": {},
     "output_type": "display_data"
    },
    {
     "data": {
      "text/plain": [
       "ActionResult(prob=0.16666666666666666, reward=-1, next_state=GameState(num_out=0, player=0, is_first=False))"
      ]
     },
     "metadata": {},
     "output_type": "display_data"
    },
    {
     "data": {
      "text/plain": [
       "GameState(num_out=0, player=0, is_first=False)"
      ]
     },
     "metadata": {},
     "output_type": "display_data"
    },
    {
     "data": {
      "text/plain": [
       "<Action.ROLL: 0>"
      ]
     },
     "metadata": {},
     "output_type": "display_data"
    },
    {
     "data": {
      "text/plain": [
       "ActionResult(prob=0.8333333333333334, reward=-1, next_state=GameState(num_out=1, player=0, is_first=False))"
      ]
     },
     "metadata": {},
     "output_type": "display_data"
    },
    {
     "data": {
      "text/plain": [
       "GameState(num_out=1, player=0, is_first=False)"
      ]
     },
     "metadata": {},
     "output_type": "display_data"
    },
    {
     "data": {
      "text/plain": [
       "<Action.PASS: 1>"
      ]
     },
     "metadata": {},
     "output_type": "display_data"
    },
    {
     "data": {
      "text/plain": [
       "ActionResult(prob=1.0, reward=0, next_state=GameState(num_out=1, player=1, is_first=True))"
      ]
     },
     "metadata": {},
     "output_type": "display_data"
    },
    {
     "data": {
      "text/plain": [
       "GameState(num_out=1, player=1, is_first=True)"
      ]
     },
     "metadata": {},
     "output_type": "display_data"
    },
    {
     "data": {
      "text/plain": [
       "<Action.ROLL: 0>"
      ]
     },
     "metadata": {},
     "output_type": "display_data"
    },
    {
     "data": {
      "text/plain": [
       "ActionResult(prob=0.16666666666666666, reward=0, next_state=GameState(num_out=-1, player=-1, is_first=False))"
      ]
     },
     "metadata": {},
     "output_type": "display_data"
    }
   ],
   "source": [
    "run_from_state(world, pennydropsolver.GameState(num_out=0, player=0, is_first=True))"
   ]
  },
  {
   "cell_type": "code",
   "execution_count": 65,
   "id": "f7886d0f-d35c-4fda-8278-99108ad9de09",
   "metadata": {},
   "outputs": [
    {
     "data": {
      "text/plain": [
       "GameState(num_out=0, player=1, is_first=True)"
      ]
     },
     "metadata": {},
     "output_type": "display_data"
    },
    {
     "data": {
      "text/plain": [
       "<Action.ROLL: 0>"
      ]
     },
     "metadata": {},
     "output_type": "display_data"
    },
    {
     "data": {
      "text/plain": [
       "ActionResult(prob=0.8333333333333334, reward=0, next_state=GameState(num_out=1, player=1, is_first=False))"
      ]
     },
     "metadata": {},
     "output_type": "display_data"
    },
    {
     "data": {
      "text/plain": [
       "GameState(num_out=1, player=1, is_first=False)"
      ]
     },
     "metadata": {},
     "output_type": "display_data"
    },
    {
     "data": {
      "text/plain": [
       "<Action.ROLL: 0>"
      ]
     },
     "metadata": {},
     "output_type": "display_data"
    },
    {
     "data": {
      "text/plain": [
       "ActionResult(prob=0.6666666666666667, reward=0, next_state=GameState(num_out=2, player=1, is_first=False))"
      ]
     },
     "metadata": {},
     "output_type": "display_data"
    },
    {
     "data": {
      "text/plain": [
       "GameState(num_out=2, player=1, is_first=False)"
      ]
     },
     "metadata": {},
     "output_type": "display_data"
    },
    {
     "data": {
      "text/plain": [
       "<Action.PASS: 1>"
      ]
     },
     "metadata": {},
     "output_type": "display_data"
    },
    {
     "data": {
      "text/plain": [
       "ActionResult(prob=1.0, reward=0, next_state=GameState(num_out=2, player=0, is_first=True))"
      ]
     },
     "metadata": {},
     "output_type": "display_data"
    },
    {
     "data": {
      "text/plain": [
       "GameState(num_out=2, player=0, is_first=True)"
      ]
     },
     "metadata": {},
     "output_type": "display_data"
    },
    {
     "data": {
      "text/plain": [
       "<Action.ROLL: 0>"
      ]
     },
     "metadata": {},
     "output_type": "display_data"
    },
    {
     "data": {
      "text/plain": [
       "ActionResult(prob=0.5000000000000001, reward=-1, next_state=GameState(num_out=3, player=0, is_first=False))"
      ]
     },
     "metadata": {},
     "output_type": "display_data"
    },
    {
     "data": {
      "text/plain": [
       "GameState(num_out=3, player=0, is_first=False)"
      ]
     },
     "metadata": {},
     "output_type": "display_data"
    },
    {
     "data": {
      "text/plain": [
       "<Action.ROLL: 0>"
      ]
     },
     "metadata": {},
     "output_type": "display_data"
    },
    {
     "data": {
      "text/plain": [
       "ActionResult(prob=0.5, reward=3, next_state=GameState(num_out=-1, player=-1, is_first=False))"
      ]
     },
     "metadata": {},
     "output_type": "display_data"
    }
   ],
   "source": [
    "run_from_state(world, pennydropsolver.GameState(num_out=0, player=1, is_first=True))"
   ]
  },
  {
   "cell_type": "markdown",
   "id": "2e501fc7-652a-40d6-8287-3086ec4080d3",
   "metadata": {},
   "source": [
    "# Players 2, 6 spots"
   ]
  },
  {
   "cell_type": "code",
   "execution_count": 83,
   "id": "bd0e92d3-11bf-47fb-b1e3-64805adc79a3",
   "metadata": {},
   "outputs": [],
   "source": [
    "world = pennydropsolver.GameModel(num_players=2, num_spots=6)\n",
    "value_table = pennydropsolver.ValueTable(world)"
   ]
  },
  {
   "cell_type": "code",
   "execution_count": 84,
   "id": "ff9dc11d-7dc6-4f59-858c-5570779bbbd4",
   "metadata": {},
   "outputs": [
    {
     "name": "stdout",
     "output_type": "stream",
     "text": [
      "total_abs_change=18.0 max_abs_change=4.0\n",
      "total_abs_change=5.333333333333335 max_abs_change=1.0555555555555558\n",
      "total_abs_change=3.962962962962964 max_abs_change=1.0555555555555558\n",
      "total_abs_change=3.6728395061728407 max_abs_change=0.5092592592592594\n",
      "total_abs_change=1.9207818930041154 max_abs_change=0.31430041152263377\n",
      "total_abs_change=1.5516117969821677 max_abs_change=0.2600737311385459\n",
      "total_abs_change=1.0763603109282116 max_abs_change=0.15432098765432123\n",
      "total_abs_change=0.49821387745770485 max_abs_change=0.07394547325102885\n",
      "total_abs_change=0.2880071000355632 max_abs_change=0.06228348225626168\n",
      "total_abs_change=0.14558473153651974 max_abs_change=0.028110492715795354\n",
      "total_abs_change=0.057086196421616386 max_abs_change=0.0090669809624917\n",
      "total_abs_change=0.026129256499074827 max_abs_change=0.006206341248075953\n",
      "total_abs_change=0.011181091588326364 max_abs_change=0.0024777300471441333\n",
      "total_abs_change=0.003998103924342189 max_abs_change=0.000763646683280994\n",
      "total_abs_change=0.001624970071490539 max_abs_change=0.0004041907764695818\n",
      "total_abs_change=0.0006355971042679709 max_abs_change=0.00014992913706812772\n",
      "total_abs_change=0.00021548752510303082 max_abs_change=4.4817405139951916e-05\n",
      "total_abs_change=8.18855234767657e-05 max_abs_change=2.0909419456982548e-05\n",
      "total_abs_change=3.0363492933949132e-05 max_abs_change=7.4140423420576695e-06\n",
      "total_abs_change=9.957658200221431e-06 max_abs_change=2.1720575362760286e-06\n",
      "total_abs_change=3.6285564817273297e-06 max_abs_change=9.419527926546323e-07\n",
      "total_abs_change=1.2998600020797113e-06 max_abs_change=3.2429587171201035e-07\n",
      "total_abs_change=4.169165831457988e-07 max_abs_change=9.370769160632619e-08\n"
     ]
    }
   ],
   "source": [
    "value_table.full_iterative_value_updates()"
   ]
  },
  {
   "cell_type": "code",
   "execution_count": 85,
   "id": "4b7cd4ca-fba0-4a14-af89-abfd77435335",
   "metadata": {},
   "outputs": [
    {
     "data": {
      "text/html": [
       "<div>\n",
       "<style scoped>\n",
       "    .dataframe tbody tr th:only-of-type {\n",
       "        vertical-align: middle;\n",
       "    }\n",
       "\n",
       "    .dataframe tbody tr th {\n",
       "        vertical-align: top;\n",
       "    }\n",
       "\n",
       "    .dataframe thead th {\n",
       "        text-align: right;\n",
       "    }\n",
       "</style>\n",
       "<table border=\"1\" class=\"dataframe\">\n",
       "  <thead>\n",
       "    <tr style=\"text-align: right;\">\n",
       "      <th></th>\n",
       "      <th>state_idx</th>\n",
       "      <th>num_out</th>\n",
       "      <th>player</th>\n",
       "      <th>is_first</th>\n",
       "      <th>action</th>\n",
       "      <th>value</th>\n",
       "    </tr>\n",
       "  </thead>\n",
       "  <tbody>\n",
       "    <tr>\n",
       "      <th>25</th>\n",
       "      <td>17</td>\n",
       "      <td>4</td>\n",
       "      <td>0</td>\n",
       "      <td>True</td>\n",
       "      <td>Action.ROLL</td>\n",
       "      <td>2.635102</td>\n",
       "    </tr>\n",
       "    <tr>\n",
       "      <th>32</th>\n",
       "      <td>22</td>\n",
       "      <td>5</td>\n",
       "      <td>0</td>\n",
       "      <td>False</td>\n",
       "      <td>Action.ROLL</td>\n",
       "      <td>4.114286</td>\n",
       "    </tr>\n",
       "    <tr>\n",
       "      <th>28</th>\n",
       "      <td>19</td>\n",
       "      <td>4</td>\n",
       "      <td>1</td>\n",
       "      <td>True</td>\n",
       "      <td>Action.ROLL</td>\n",
       "      <td>1.124898</td>\n",
       "    </tr>\n",
       "  </tbody>\n",
       "</table>\n",
       "</div>"
      ],
      "text/plain": [
       "    state_idx  num_out  player  is_first       action     value\n",
       "25         17        4       0      True  Action.ROLL  2.635102\n",
       "32         22        5       0     False  Action.ROLL  4.114286\n",
       "28         19        4       1      True  Action.ROLL  1.124898"
      ]
     },
     "execution_count": 85,
     "metadata": {},
     "output_type": "execute_result"
    }
   ],
   "source": [
    "df = value_table.to_dataframe()\n",
    "df.sample(3)"
   ]
  },
  {
   "cell_type": "code",
   "execution_count": 86,
   "id": "a4485527-355d-4b2d-a272-1280e8aace76",
   "metadata": {},
   "outputs": [
    {
     "data": {
      "text/html": [
       "<div>\n",
       "<style scoped>\n",
       "    .dataframe tbody tr th:only-of-type {\n",
       "        vertical-align: middle;\n",
       "    }\n",
       "\n",
       "    .dataframe tbody tr th {\n",
       "        vertical-align: top;\n",
       "    }\n",
       "\n",
       "    .dataframe thead th {\n",
       "        text-align: right;\n",
       "    }\n",
       "</style>\n",
       "<table border=\"1\" class=\"dataframe\">\n",
       "  <thead>\n",
       "    <tr style=\"text-align: right;\">\n",
       "      <th></th>\n",
       "      <th>state_idx</th>\n",
       "      <th>num_out</th>\n",
       "      <th>player</th>\n",
       "      <th>is_first</th>\n",
       "      <th>action</th>\n",
       "      <th>value</th>\n",
       "    </tr>\n",
       "  </thead>\n",
       "  <tbody>\n",
       "    <tr>\n",
       "      <th>2</th>\n",
       "      <td>2</td>\n",
       "      <td>0</td>\n",
       "      <td>0</td>\n",
       "      <td>False</td>\n",
       "      <td>Action.ROLL</td>\n",
       "      <td>-1.453197</td>\n",
       "    </tr>\n",
       "    <tr>\n",
       "      <th>3</th>\n",
       "      <td>2</td>\n",
       "      <td>0</td>\n",
       "      <td>0</td>\n",
       "      <td>False</td>\n",
       "      <td>Action.PASS</td>\n",
       "      <td>0.751117</td>\n",
       "    </tr>\n",
       "    <tr>\n",
       "      <th>8</th>\n",
       "      <td>6</td>\n",
       "      <td>1</td>\n",
       "      <td>0</td>\n",
       "      <td>False</td>\n",
       "      <td>Action.ROLL</td>\n",
       "      <td>-0.253197</td>\n",
       "    </tr>\n",
       "    <tr>\n",
       "      <th>9</th>\n",
       "      <td>6</td>\n",
       "      <td>1</td>\n",
       "      <td>0</td>\n",
       "      <td>False</td>\n",
       "      <td>Action.PASS</td>\n",
       "      <td>0.751117</td>\n",
       "    </tr>\n",
       "    <tr>\n",
       "      <th>14</th>\n",
       "      <td>10</td>\n",
       "      <td>2</td>\n",
       "      <td>0</td>\n",
       "      <td>False</td>\n",
       "      <td>Action.ROLL</td>\n",
       "      <td>0.683503</td>\n",
       "    </tr>\n",
       "    <tr>\n",
       "      <th>15</th>\n",
       "      <td>10</td>\n",
       "      <td>2</td>\n",
       "      <td>0</td>\n",
       "      <td>False</td>\n",
       "      <td>Action.PASS</td>\n",
       "      <td>0.938897</td>\n",
       "    </tr>\n",
       "    <tr>\n",
       "      <th>20</th>\n",
       "      <td>14</td>\n",
       "      <td>3</td>\n",
       "      <td>0</td>\n",
       "      <td>False</td>\n",
       "      <td>Action.ROLL</td>\n",
       "      <td>1.564828</td>\n",
       "    </tr>\n",
       "    <tr>\n",
       "      <th>21</th>\n",
       "      <td>14</td>\n",
       "      <td>3</td>\n",
       "      <td>0</td>\n",
       "      <td>False</td>\n",
       "      <td>Action.PASS</td>\n",
       "      <td>1.139172</td>\n",
       "    </tr>\n",
       "    <tr>\n",
       "      <th>26</th>\n",
       "      <td>18</td>\n",
       "      <td>4</td>\n",
       "      <td>0</td>\n",
       "      <td>False</td>\n",
       "      <td>Action.ROLL</td>\n",
       "      <td>2.635102</td>\n",
       "    </tr>\n",
       "    <tr>\n",
       "      <th>27</th>\n",
       "      <td>18</td>\n",
       "      <td>4</td>\n",
       "      <td>0</td>\n",
       "      <td>False</td>\n",
       "      <td>Action.PASS</td>\n",
       "      <td>1.124898</td>\n",
       "    </tr>\n",
       "    <tr>\n",
       "      <th>32</th>\n",
       "      <td>22</td>\n",
       "      <td>5</td>\n",
       "      <td>0</td>\n",
       "      <td>False</td>\n",
       "      <td>Action.ROLL</td>\n",
       "      <td>4.114286</td>\n",
       "    </tr>\n",
       "    <tr>\n",
       "      <th>33</th>\n",
       "      <td>22</td>\n",
       "      <td>5</td>\n",
       "      <td>0</td>\n",
       "      <td>False</td>\n",
       "      <td>Action.PASS</td>\n",
       "      <td>0.685714</td>\n",
       "    </tr>\n",
       "  </tbody>\n",
       "</table>\n",
       "</div>"
      ],
      "text/plain": [
       "    state_idx  num_out  player  is_first       action     value\n",
       "2           2        0       0     False  Action.ROLL -1.453197\n",
       "3           2        0       0     False  Action.PASS  0.751117\n",
       "8           6        1       0     False  Action.ROLL -0.253197\n",
       "9           6        1       0     False  Action.PASS  0.751117\n",
       "14         10        2       0     False  Action.ROLL  0.683503\n",
       "15         10        2       0     False  Action.PASS  0.938897\n",
       "20         14        3       0     False  Action.ROLL  1.564828\n",
       "21         14        3       0     False  Action.PASS  1.139172\n",
       "26         18        4       0     False  Action.ROLL  2.635102\n",
       "27         18        4       0     False  Action.PASS  1.124898\n",
       "32         22        5       0     False  Action.ROLL  4.114286\n",
       "33         22        5       0     False  Action.PASS  0.685714"
      ]
     },
     "execution_count": 86,
     "metadata": {},
     "output_type": "execute_result"
    }
   ],
   "source": [
    "df[(df[\"player\"] == 0 ) & (~df[\"is_first\"])]"
   ]
  },
  {
   "cell_type": "code",
   "execution_count": null,
   "id": "ca4daa76-e758-4d62-91c4-3670180cdb9a",
   "metadata": {},
   "outputs": [],
   "source": []
  }
 ],
 "metadata": {
  "kernelspec": {
   "display_name": "pennydropsolver",
   "language": "python",
   "name": "pennydropsolver"
  },
  "language_info": {
   "codemirror_mode": {
    "name": "ipython",
    "version": 3
   },
   "file_extension": ".py",
   "mimetype": "text/x-python",
   "name": "python",
   "nbconvert_exporter": "python",
   "pygments_lexer": "ipython3",
   "version": "3.9.17"
  }
 },
 "nbformat": 4,
 "nbformat_minor": 5
}
